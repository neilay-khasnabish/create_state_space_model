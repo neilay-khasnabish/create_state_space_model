{
  "nbformat": 4,
  "nbformat_minor": 0,
  "metadata": {
    "kernelspec": {
      "display_name": "Python 3",
      "language": "python",
      "name": "python3"
    },
    "language_info": {
      "codemirror_mode": {
        "name": "ipython",
        "version": 3
      },
      "file_extension": ".py",
      "mimetype": "text/x-python",
      "name": "python",
      "nbconvert_exporter": "python",
      "pygments_lexer": "ipython3",
      "version": "3.4.3"
    },
    "colab": {
      "name": "create-state-space-model.ipynb",
      "provenance": [],
      "collapsed_sections": []
    }
  },
  "cells": [
    {
      "cell_type": "markdown",
      "metadata": {
        "id": "PiVxxOZx_BOw"
      },
      "source": [
        "# Create Discrete State Space Model. This script estimates the papameter matrices of State Stapce models."
      ]
    },
    {
      "cell_type": "markdown",
      "metadata": {
        "id": "mYcNN28A_BOz"
      },
      "source": [
        "![SS.gif](data:image/gif;base64,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)"
      ]
    },
    {
      "cell_type": "code",
      "metadata": {
        "id": "J4-YGGDZ_BO0",
        "colab": {
          "base_uri": "https://localhost:8080/",
          "height": 445
        },
        "outputId": "60af24af-c047-46fd-bacc-5c27e03d348e"
      },
      "source": [
        "# Calling libraries\n",
        "import numpy as np\n",
        "from scipy.optimize import minimize\n",
        "from scipy import linalg\n",
        "import matplotlib.pyplot as plt\n",
        "\n",
        "\n",
        "# Creating the class\n",
        "class cssm :\n",
        "  def __init__(self, A, B, C):\n",
        "      self.A = A\n",
        "      self.B = B\n",
        "      self.C = C\n",
        "\n",
        "  # Creating the objective function\n",
        "  def objFcn(self, x, flag = 0) :\n",
        "    # Extract parameters for A matrix\n",
        "    A1 = x[0 : self.A[0]*self.A[1]]\n",
        "    # Extract parameters for B matrix\n",
        "    B1 = x[self.A[0]*self.A[1] : self.A[0]*self.A[1] + self.B[0]*self.B[1]]\n",
        "    # Extract parameters for C matrix\n",
        "    C1 = x[self.A[0]*self.A[1] + self.B[0]*self.B[1] : self.A[0]*self.A[1] + self.B[0]*self.B[1] + self.C[0]*self.C[1]]\n",
        "\n",
        "    # Reshape the matrices\n",
        "    A1 = np.reshape(A1, (self.A[0], self.A[1])) # No of states X No of states\n",
        "    B1 = np.reshape(B1, (self.B[0], self.B[1])) # No of states X No of inputs\n",
        "    C1 = np.reshape(C1, (self.C[0], self.C[1])) # No of outputs X No of states\n",
        "\n",
        "    # Creating initial state as 0\n",
        "    [r_s, c_s] = np.shape(A1)\n",
        "    x=np.zeros((r_s,1))\n",
        "\n",
        "    # For reshaping the input\n",
        "    [r_s, c_s] = np.shape(B1)\n",
        "\n",
        "    # Creating a copy of output\n",
        "    y_p = y.copy()\n",
        "    [r_op, c_op] = np.shape(y_p)\n",
        "\n",
        "    # Expanding through time\n",
        "    for i in range(r_op) :\n",
        "      y_p[i] = np.transpose(np.matmul(C1,x))\n",
        "      x = np.matmul(A1,x) + np.matmul(B1,u[i].reshape(c_s,1)) #x[k+1]\n",
        "\n",
        "    # To be edited >>>>>>>>>>>>>>>>>>>>>>>>>>>>>>>>>>>>>>>>>>>>>>>>>>>>>>>>>>>>>\n",
        "    if flag == 1:\n",
        "      plt.plot(y[:,0])\n",
        "      plt.plot(y_p[:,0])\n",
        "      plt.ylabel('OP Value')\n",
        "      plt.show()\n",
        "      print('Eigen values of System matrix: ', linalg.eigvals(A1))\n",
        "\n",
        "    # Returning the error\n",
        "    errVal = np.mean(np.abs(y - y_p))\n",
        "    return(errVal)\n",
        "\n",
        "  # Initialise function\n",
        "  def optimizeMdl(self, ite1=100) :\n",
        "    # Create a placeholder\n",
        "    totalsizeParams = self.A[0]*self.A[1] + self.B[0]*self.B[1] + self.C[0]*self.C[1]\n",
        "    valDummy = 1000000000000.00\n",
        "\n",
        "    # Random sampling\n",
        "    print('Random sampling starts with Iteration', ite1)\n",
        "    for iRand in range(ite1):\n",
        "      # sigma * np.random.randn(...) + mu\n",
        "      xDummy = np.random.randn(1, totalsizeParams) # sigma = 1 and mu = 1\n",
        "      xAccpeted = xDummy[0,:]\n",
        "      if self.objFcn(x = xDummy[0,:]) < valDummy:\n",
        "        valDummy = self.objFcn(x = xDummy[0,:])\n",
        "        xAccpeted = xDummy[0,:]\n",
        "    print('Best initial guess with error: ', valDummy)\n",
        "\n",
        "    # Optimize\n",
        "    print('Optimization starts ...')\n",
        "    x0 = xAccpeted\n",
        "    res = minimize(self.objFcn, x0, method='nelder-mead', options={'xatol': 1e-8, 'disp': True})\n",
        "\n",
        "    # Final residual error\n",
        "    print('Residual error is: ')\n",
        "    print(self.objFcn(x = res.x))\n",
        "\n",
        "    # Validation : to be edited >>>>>>>>>>>>>>>>>>>>>>>>>>>>>>>>>>>>>>>>>>>>>>>>\n",
        "    self.objFcn(x = res.x, flag = 1)\n",
        "\n",
        "\n",
        "\n",
        "# Inital validation of script\n",
        "\n",
        "# Define the shapes of system matrices as global variables\n",
        "A = [3,3] # No of states X No of states\n",
        "B = [3,2] # No of states X No of inputs\n",
        "C = [2,3] # No of outputs X No of states\n",
        "\n",
        "# Time on\n",
        "import time\n",
        "start = time.time()\n",
        "\n",
        "# Create dummy data\n",
        "u = np.ones((100, 2)) # Samples X No of inputs\n",
        "y = np.ones((100, 2)) # Samples X No of outputs\n",
        "\n",
        "# Creating the model\n",
        "ssm = cssm(A, B, C)\n",
        "ssm.optimizeMdl(ite1=1000)\n",
        "\n",
        "# Time off\n",
        "end = time.time()\n",
        "print('Total time elapsed: ', end - start)"
      ],
      "execution_count": 20,
      "outputs": [
        {
          "output_type": "stream",
          "text": [
            "Random sampling starts with Iteration 1000\n",
            "Best initial guess with error:  0.3475069889625994\n",
            "Optimization starts ...\n",
            "Optimization terminated successfully.\n",
            "         Current function value: 0.048803\n",
            "         Iterations: 2383\n",
            "         Function evaluations: 3346\n",
            "Residual error is: \n",
            "0.04880303302232435\n"
          ],
          "name": "stdout"
        },
        {
          "output_type": "display_data",
          "data": {
            "image/png": "[encoded data removed]",
            "text/plain": [
              "<Figure size 432x288 with 1 Axes>"
            ]
          },
          "metadata": {
            "tags": [],
            "needs_background": "light"
          }
        },
        {
          "output_type": "stream",
          "text": [
            "Eigen values of System matrix:  [-0.10812139+0.26758038j -0.10812139-0.26758038j  0.20260201+0.j        ]\n",
            "Total time elapsed:  3.535926103591919\n"
          ],
          "name": "stdout"
        }
      ]
    },
    {
      "cell_type": "code",
      "metadata": {
        "id": "CO1u37T2E5-z"
      },
      "source": [
        "# Solving a differential equation\r\n",
        "\r\n",
        "def vdp(t, z):\r\n",
        "    x, y, z = z\r\n",
        "    u0 = 1\r\n",
        "    u1 = np.cos(t) * 10\r\n",
        "    u2 = 1 # Kept constnt\r\n",
        "    return [-x - y*z + u0, -y + x*z + u1, -z - x*y + u2]"
      ],
      "execution_count": null,
      "outputs": []
    }
  ]
}